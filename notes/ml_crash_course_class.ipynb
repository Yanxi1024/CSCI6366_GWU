{
 "cells": [
  {
   "cell_type": "code",
   "execution_count": null,
   "metadata": {
    "tags": []
   },
   "outputs": [],
   "source": [
    "import matplotlib.pyplot as plt\n",
    "import numpy as np\n",
    "import pandas as pd\n",
    "%matplotlib inline"
   ]
  },
  {
   "cell_type": "markdown",
   "metadata": {},
   "source": [
    "# Scalars, Vectors, Matrices, and Tensors in Python\n",
    "These all represent different dimensionality of data in linear algebra:\n",
    "\n",
    "<img style=\"max-height: 200px\" src=\"https://www.kdnuggets.com/wp-content/uploads/scalar-vector-matrix-tensor.jpg\"></img>\n",
    " - Scalar: Single value\n",
    " - Vector: Array of values\n",
    " - Matrix: 2-D array of values\n",
    " - Tensor: N-D array of values (image only shows 3-Dimensional array)\n",
    " \n",
    "We can represent these constructs directly in python's numpy package:"
   ]
  },
  {
   "cell_type": "code",
   "execution_count": null,
   "metadata": {
    "tags": []
   },
   "outputs": [],
   "source": [
    "scalar = np.array([5])\n",
    "\n",
    "vector = np.array([1,2])\n",
    "\n",
    "matrix = np.array([[1,2],\n",
    "                  [2,4]])\n",
    "\n",
    "tensor = np.array([[\n",
    "        [1,2], [3,4]\n",
    "    ],[\n",
    "        [5,6], [7,8]\n",
    "    ]\n",
    "])\n",
    "\n",
    "print(f'Example Object \\t Type \\t\\t Shape')\n",
    "print('---------------------------------------')\n",
    "print(f'{scalar} \\t\\t Scalar \\t {scalar.shape}\\n') # 2^0\n",
    "print('---------------------------------------')\n",
    "print(f'{vector} \\t\\t Vector \\t {vector.shape}\\n') # 2^1\n",
    "print('---------------------------------------')\n",
    "print(f'{matrix} \\t Matrix \\t {matrix.shape}\\n\\n') # 2^2\n",
    "print('---------------------------------------')\n",
    "print(f'{tensor} \\t 3D Tensor \\t {tensor.shape}') # 2^8\n",
    "print('---------------------------------------')"
   ]
  },
  {
   "cell_type": "markdown",
   "metadata": {},
   "source": [
    "----\n",
    "\n",
    "## Broadcasting\n",
    "Broadcasting is how numpy coerces differently shaped matrices to be compatable for arthimetic operations (+, -, *, /).\n",
    "\n",
    "It can enable us to take a matrix with fewer dimensions and map it across an axis of another array with more dimensions.\n",
    "\n",
    "$$\\begin{bmatrix}a & b\\\\c & d\\\\e & f\\end{bmatrix} \\cdot \\begin{bmatrix}g & h\\end{bmatrix}\n",
    "= \\begin{bmatrix}ag & bh\\\\cg & dh\\\\eg & fh\\end{bmatrix}$$\n",
    "\n",
    "*Note: This is not the same thing as dot products*"
   ]
  },
  {
   "cell_type": "code",
   "execution_count": null,
   "metadata": {
    "tags": []
   },
   "outputs": [],
   "source": [
    "m1 = np.array([[1, 2], [3, 4], [5, 6]]) # Array with two dimensions\n",
    "m2 = np.array([2, 4]) # Array with one dimension"
   ]
  },
  {
   "cell_type": "code",
   "execution_count": null,
   "metadata": {
    "tags": []
   },
   "outputs": [],
   "source": [
    "print(f'Matrix 1 (m1):\\n{m1}\\n')"
   ]
  },
  {
   "cell_type": "code",
   "execution_count": null,
   "metadata": {
    "tags": []
   },
   "outputs": [],
   "source": [
    "print(f'Matrix 2 (m2):\\n{m2}\\n')"
   ]
  },
  {
   "cell_type": "code",
   "execution_count": null,
   "metadata": {
    "tags": []
   },
   "outputs": [],
   "source": [
    "print(f'm1 * m2:\\n{m1 * m2}\\n')"
   ]
  },
  {
   "cell_type": "markdown",
   "metadata": {},
   "source": [
    "$$\\begin{bmatrix}1 & 2\\\\3 & 4\\\\5 & 6\\end{bmatrix} \\cdot \\begin{bmatrix}2 & 4\\end{bmatrix}\n",
    "= \\begin{bmatrix}1*2 & 2*4\\\\3*2 & 4*4\\\\5*2 & 6*4\\end{bmatrix}\n",
    "= \\begin{bmatrix}2 & 8\\\\6 & 16\\\\10 & 24\\end{bmatrix}$$"
   ]
  },
  {
   "cell_type": "markdown",
   "metadata": {},
   "source": [
    "----\n",
    "\n",
    "## Dot Products and Matrix Mulitplication\n",
    "Dot product is a linear algebra term to describe the relationship between two vectors.\n",
    "\n",
    "$$u\\cdot v=|u||v|cos(\\theta)$$\n",
    "\n",
    "In ML, the **Dot Product** is a common techinque for evaluting the joint result of inputs (**X**) and weights (**W**) to determine our outputs/predictions.\n",
    "\n",
    "Given that **Dot Products** are only between two vectors, we instead typically use a specific implementation of **Matrix Multiplicationn** to parallelize the calucation across numerous records/inputs.\n",
    "\n",
    "Given:\n",
    "$$inputs = \\begin{bmatrix}a & b\\\\c & d\\\\e & f\\end{bmatrix}$$\n",
    "\n",
    "$$weights = \\begin{bmatrix}w_1 \\\\ w_2\\end{bmatrix}$$\n",
    "\n",
    "We get:\n",
    "$$inputs\\cdot weights = \\begin{bmatrix}a*w_1 + b*w_2\\\\c*w_1 + d*w_2\\\\e*w_1 + f*w_2\\end{bmatrix}$$\n",
    "\\\n",
    "\\\n",
    "\\\n",
    "***NOTE: For matrix multiplication the inner dimensions need to  align:***\n",
    "  - $MxN \\cdot NxP => MxP$\n",
    "    - Example: &nbsp; $(3, 2) \\cdot (2, 1) => (3, 1)$\n",
    "  - Commonly in DL: &nbsp; $inputs \\cdot weights => Z$\n"
   ]
  },
  {
   "cell_type": "markdown",
   "metadata": {},
   "source": [
    "\n",
    "### **In Class Question:**\n",
    "What does this formula look like: $a*w_1 + b*w_2$"
   ]
  },
  {
   "cell_type": "code",
   "execution_count": null,
   "metadata": {
    "tags": []
   },
   "outputs": [],
   "source": [
    "m1 = np.array([[1, 2], [3, 4], [4, 5]])\n",
    "m2 = np.array([1, 2]) # When defining a Mx1 matrix, numpy can be lax\n",
    "\n",
    "print(\n",
    "    f'''m1:\\n{m1}\n",
    "    \\nm2:\\n{m2}\\n'''\n",
    ")"
   ]
  },
  {
   "cell_type": "code",
   "execution_count": null,
   "metadata": {
    "tags": []
   },
   "outputs": [],
   "source": [
    "print(f'The provided matrices are of shape {m1.shape} and {m2.shape}')"
   ]
  },
  {
   "cell_type": "markdown",
   "metadata": {},
   "source": [
    "This means that we can calculate the matrix multiplication of the matrices:"
   ]
  },
  {
   "cell_type": "code",
   "execution_count": null,
   "metadata": {
    "tags": []
   },
   "outputs": [],
   "source": [
    "try:\n",
    "    print(np.dot(m1, m2))\n",
    "    #print(m1 @ m2) # alternate syntax for matrix multiplication\n",
    "except ValueError:\n",
    "    print(f\"Error: Muliplication won't work, shapes incompatiable: {m1.shape} * {m2.shape}\\n\")\n"
   ]
  },
  {
   "cell_type": "markdown",
   "metadata": {},
   "source": [
    "Typically when working with Matrices we'll us the following notation to represent the dimensionality of the matrix **(M, N)**. In most ML applications **M** will represent the number of records/samples and **N** represents the number of features (size of our features space).\n",
    "\n",
    "While not true for most deep learning applications, in linear models (where we'll be starting) **N** would also represent our model's weights, as we have a weight for each feature. Therefore, by taking the dot product $(M, N) \\cdot (N, 1)$ we end up with a **(M, 1)** matrix, or simply **M** predictions.\n",
    "\n",
    "***Hint:***\\\n",
    "Later in class we'll talk more about this when lookikng into the following formula $\\boldsymbol{y = B_0 + X_1*B_1 ... X_N*B_N }$"
   ]
  },
  {
   "cell_type": "markdown",
   "metadata": {},
   "source": [
    "----\n",
    "## Aligning our Matrices\n",
    "\n",
    "Frequently, when working at a lower level with our networks we may end up in situations where our matrices are not properly oriented correctly.\n",
    "\n",
    "Example:\n",
    " - $Matrix_1 = (M, N)\\; and\\; Matrix_2 = (1, N)$\n",
    "\n",
    "In these situations we simply need to transpose $Matrix_2$ to align our dimensions:\n",
    "\n",
    "![image.png](https://upload.wikimedia.org/wikipedia/commons/e/e4/Matrix_transpose.gif)"
   ]
  },
  {
   "cell_type": "code",
   "execution_count": null,
   "metadata": {
    "tags": []
   },
   "outputs": [],
   "source": [
    "# Transposing\n",
    "m1 = np.array([[1, 2], [3, 4], [4,5]])\n",
    "print(f'm1:\\n{m1}\\n')\n",
    "print(f'transpose(m1):\\n{m1.T}')\n"
   ]
  },
  {
   "cell_type": "markdown",
   "metadata": {},
   "source": [
    "----\n",
    "# Bias, Variance, and/or Capacity\n",
    "\n",
    "Whenever we talk about a model's performance one of the main topics is the ***error term***. This is effectively a gauge of how performant the model is, and can be captured through a number of means (mean-squared error, cross-entropy loss, etc.)\n",
    "\n",
    "Ultimately though, error is dervied from the following:\n",
    " - Bias\n",
    " - Variance\n",
    " - Inherent Uncertainty/Noise\n",
    " \n",
    "$$error(X) = Noise(X) + Bias(X) + Variance(X)$$\n",
    "\n",
    "<img style=\"max-height:250px\" src=\"https://miro.medium.com/max/1506/1*oO0KYF7Z84nePqfsJ9E0WQ.png\"/>\n"
   ]
  },
  {
   "cell_type": "markdown",
   "metadata": {},
   "source": [
    "## Visualizing These Error Terms\n",
    "\n",
    "In general the three types of error terms can be thought of the following concepts in the graphic:\n",
    " - **Noise** - Our **irreducible error**. Essentially the chaos in the world that we can never fully capture (can't control).\n",
    " - **Bias** - The **error of a measuring technique**. Essentially how we build/structure our model (we can mitigate this).\n",
    " - **Variance** - The **variation due to our training data**. Essentially how the patterns we learn are influenced by datapoints we train on.\n",
    " \n",
    "While our noise or irreducible error is constant, there are simply things out of our control, bias and variance have a trade off. As we make our model more complex we are removing assumptions we have to make about the data, but at the same time we let our training data influence our decision making process more heavily.\n",
    " \n",
    "Through a quickish example we can walk through some of these effects on an example problem:\n",
    "\n",
    "----\n",
    "\n",
    "### Setting up our problem\n",
    "We can take a given function:\n",
    "$$y = -\\frac{1}{5} * X^3 + X^2 + 20$$\n",
    "and add noise and measurement error:\n",
    "$$y = -\\frac{1}{5} * X^3 + X^2 + 20 - 10 + Z \\in (Normal Distribution)$$\n",
    "- *The -10 gives a constant offset representing an error in our measuring instrument*\n",
    "- *The random Z would represent random noise within the environment.*\n",
    "\n"
   ]
  },
  {
   "cell_type": "code",
   "execution_count": null,
   "metadata": {
    "tags": []
   },
   "outputs": [],
   "source": [
    "from sklearn import preprocessing\n",
    "\n",
    "sample_size = 100\n",
    "np.random.seed(10)\n",
    "\n",
    "# Create our dataset\n",
    "X = np.random.uniform(-10, 10, size=(sample_size, 1))\n",
    "X = np.sort(X, axis=0)\n",
    "y_true = -1/5*np.power(X, 3) + np.power(X, 2) + 20\n",
    "y = y_true - 10 + 10*np.random.randn(sample_size, 1)\n",
    "\n",
    "\n",
    "# Plot our data\n",
    "fig = plt.figure()\n",
    "ax1 = fig.add_subplot(121)\n",
    "ax2 = fig.add_subplot(122)\n",
    "ax1.plot(X, y_true)\n",
    "ax2.plot(X, y)\n",
    "plt.show()"
   ]
  },
  {
   "cell_type": "markdown",
   "metadata": {},
   "source": [
    "### Creating Models\n",
    "With out training data defined, we can build a number of different ML models to try to fit to the data.\n",
    "\n",
    " - model_p1 - A model with 1 degree of freedom, meaning it will produce a linear solution\n",
    " - model_p2 - A model with a high per sample influence\n",
    " - model_p3 - A model with more normal parameters"
   ]
  },
  {
   "cell_type": "code",
   "execution_count": null,
   "metadata": {
    "tags": []
   },
   "outputs": [],
   "source": [
    "from sklearn.model_selection import train_test_split \n",
    "\n",
    "# Lets standardize our features\n",
    "# results in mean of 0 and variance of 1\n",
    "scaler = preprocessing.StandardScaler()\n",
    "stand_X = scaler.fit_transform(X)"
   ]
  },
  {
   "cell_type": "code",
   "execution_count": null,
   "metadata": {
    "tags": []
   },
   "outputs": [],
   "source": [
    "from sklearn.svm import SVR\n",
    "\n",
    "# Linear SVR model\n",
    "model_p1 = SVR(kernel='poly', degree=1)\n",
    "model_p1.fit(stand_X, y.ravel())\n",
    "predictions_1 = model_p1.predict(stand_X)\n",
    "\n",
    "# Model using rbf-kernel, but high gamma (high per sample influence)\n",
    "model_p2 = SVR(kernel='rbf', C=1e6, gamma=8)\n",
    "model_p2.fit(stand_X, y.ravel())\n",
    "predictions_2 = model_p2.predict(stand_X)\n",
    "\n",
    "# Model using rbf-kernel\n",
    "model_p3 = SVR(kernel='rbf', C=1e6, gamma=.1)\n",
    "model_p3.fit(stand_X, y.ravel())\n",
    "predictions_3 = model_p3.predict(stand_X)"
   ]
  },
  {
   "cell_type": "markdown",
   "metadata": {},
   "source": [
    "### Bias vs Variance Errors in our model\n",
    "By simply ploting these different types of models, we can see that each of them is impacted differently by the training data. From being under influenced (high bias) to too influenced by the data (high variance)."
   ]
  },
  {
   "cell_type": "code",
   "execution_count": null,
   "metadata": {
    "tags": []
   },
   "outputs": [],
   "source": [
    "# Plot our data\n",
    "fig, (ax1, ax2, ax3, ax4) = plt.subplots(nrows=1, ncols=4, figsize=(10, 3))\n",
    "\n",
    "ax1.plot(X, y)\n",
    "ax2.plot(X, predictions_1)\n",
    "ax3.plot(X, predictions_2)\n",
    "ax4.plot(X, predictions_3)\n",
    "\n",
    "plt.tight_layout()\n",
    "plt.show()"
   ]
  },
  {
   "cell_type": "markdown",
   "metadata": {},
   "source": [
    "### Inerpreting Our Results:\n",
    "    \n",
    "In the graph below, we've plotted the <span style=\"color:orange\">actual data</span>, the <span style=\"color:grey\">linearly predicted results</span>, and the <span style=\"color:red\">kernel predicted results</span>.\n",
    "\n",
    "The key take away here is as follows:\n",
    " - The <span style=\"color:orange\">actual data</span>.\n",
    " - The <span style=\"color:blue\">actual data with noise</span>.\n",
    " - The <span style=\"color:grey\">linear model's predictions</span> have a huge bias error (underfitting/under capacity). As this model only understands linear relationships.\n",
    " - The <span style=\"color:limegreen\">kernel, with high flexibility, model's predictions</span> have a variance error (overfitting/over-capacity). As each individual sample is given an exorbitant amount of influence.\n",
    " - The <span style=\"color:red\">properly tuned kernel model's predictions</span> seem to most closely approximate the true underlying function."
   ]
  },
  {
   "cell_type": "code",
   "execution_count": null,
   "metadata": {},
   "outputs": [],
   "source": [
    "# Plot our data\n",
    "# Variance in the model\n",
    "fig = plt.figure(figsize=(15, 10))\n",
    "axes = fig.add_subplot(111)\n",
    "\n",
    "axes.plot(X, y, c='blue')\n",
    "axes.plot(X, predictions_1, c='grey')\n",
    "axes.plot(X, predictions_2, c='limegreen')\n",
    "axes.plot(X, predictions_3, c='red')\n",
    "axes.plot(X, y_true, c='orange')\n",
    "\n",
    "plt.tight_layout()\n",
    "plt.show()"
   ]
  },
  {
   "cell_type": "markdown",
   "metadata": {},
   "source": [
    "### Variance in our model\n",
    "We can also visualize the impact that variance can have on our results by repeating our experiments with a singular model. By taking multiple random samples of our training data, we can see how our model's predictions shift based on different initializations.\n",
    "\n",
    "An interesting thing is, if we were to increase the number of iterations of the data, we could begin to visualize a closer approximation of the original function."
   ]
  },
  {
   "cell_type": "code",
   "execution_count": null,
   "metadata": {},
   "outputs": [],
   "source": [
    "sample_size = 100\n",
    "iterations = 50\n",
    "\n",
    "# Variance in the model\n",
    "fig = plt.figure(figsize=(15, 10))\n",
    "axes = fig.add_subplot(111)\n",
    "\n",
    "model_var = SVR(kernel='rbf', C=1e6, gamma=.1)\n",
    "\n",
    "# Lets rerun this with a range of 1000!\n",
    "for _ in range(iterations):\n",
    "    rand_sample = np.random.randint(stand_X.shape[0], size=(sample_size))\n",
    "    rand_in = stand_X[rand_sample]\n",
    "    rand_out = np.ravel(y[rand_sample])\n",
    "    model_var.fit(rand_in, rand_out)\n",
    "    predictions_var = model_var.predict(stand_X)\n",
    "    axes.plot(stand_X, predictions_var)\n",
    "\n",
    "# Plot our data\n",
    "plt.show()"
   ]
  },
  {
   "attachments": {
    "k-cross_fold_validation.png": {
     "image/png": "[encoded data removed]"
    }
   },
   "cell_type": "markdown",
   "metadata": {
    "tags": []
   },
   "source": [
    "### K-Fold Cross Validation\n",
    "Because models can be heavily influenced by their initalization state we generally want to assess the variability in results. K-Fold Cross Validation is an approach to more accurately gauge how the variance error term will impact results. It works by splitting our dataset into **K folds**, using K-1 partitions to train whilst keeping the last partition as a testing set. The concept being that the aggregate result will be a less biased estimate of the model's overall performance.\n",
    "\n",
    "<div style=\"margin:auto;width:50%\">\n",
    "\n",
    "![k-cross_fold_validation.png](attachment:k-cross_fold_validation.png)\n",
    "\n",
    "</div>"
   ]
  },
  {
   "cell_type": "code",
   "execution_count": null,
   "metadata": {},
   "outputs": [],
   "source": [
    "from sklearn.model_selection import KFold\n",
    "\n",
    "np.random.seed(10)\n",
    "sample_size = 300\n",
    "\n",
    "# Create our dataset\n",
    "X = np.random.uniform(-10, 10, size=(sample_size, 1))\n",
    "y_true = -1/5*np.power(X, 3) + np.power(X, 2) + 20\n",
    "y = y_true - 10 + 10*np.random.randn(sample_size, 1)\n",
    "\n",
    "scaler = preprocessing.StandardScaler()\n",
    "stand_X = scaler.fit_transform(X)\n",
    "\n",
    "kf = KFold(n_splits=3) # Create our splits\n",
    "\n",
    "fig, (ax1) = plt.subplots(nrows=1, ncols=1, figsize=(15, 12))\n",
    "ax1.scatter(X, y, c='blue')\n",
    "colors = ['orange', 'red', 'cyan']\n",
    "\n",
    "ix = 0\n",
    "for train_index, test_index in kf.split(X, y):\n",
    "    X_train, X_test = X[train_index], X[test_index]\n",
    "    y_train, y_test = y[train_index], y[test_index]\n",
    "    \n",
    "    model = SVR(kernel='rbf', C=1e6, gamma=1)\n",
    "    model.fit(X_train, y_train.ravel())\n",
    "    predictions = model.predict(X_test)\n",
    "    ax1.scatter(X_test, predictions, c=colors[ix])\n",
    "    ix += 1\n",
    "    \n",
    "    \n",
    "# Plot our data\n",
    "plt.show()"
   ]
  },
  {
   "cell_type": "markdown",
   "metadata": {},
   "source": [
    "----\n",
    "## Gradient Descent\n",
    "Gradient descent is one of the primary algorithms for any ML algorithm and is at the core of Deep Learning. It is the process of finding a local (although ideally global) maximum or minimum for a set function.\n",
    "\n",
    "To visualize how gradient descent works, we'll use a simple quadratic function: $y = x^2$"
   ]
  },
  {
   "cell_type": "code",
   "execution_count": null,
   "metadata": {
    "tags": []
   },
   "outputs": [],
   "source": [
    "x = []\n",
    "y = []\n",
    "\n",
    "for ix in range(-50, 50):\n",
    "    x.append(ix)\n",
    "    y.append(ix**2)\n",
    "    \n",
    "fig= plt.figure()\n",
    "axes=fig.add_subplot(111)\n",
    "axes.plot(x, y)\n",
    "plt.show()"
   ]
  },
  {
   "cell_type": "markdown",
   "metadata": {},
   "source": [
    "**Moving along the gradient**\n",
    "\n",
    " 1. We'll start by placing a marker **x** at -20.\n",
    " 2. Knowing our function is $y=X^2$ we can calculate the gradient from our current position.\n",
    " 3. Using the calculated gradient, we can update our current position to follow the curve to a local minimum or maximum.\n",
    "    - This works because our gradient tells us if we are currently positioned along an upward or downward slope  "
   ]
  },
  {
   "cell_type": "code",
   "execution_count": null,
   "metadata": {
    "tags": []
   },
   "outputs": [],
   "source": [
    "curr_x = -20\n",
    "\n",
    "grad = lambda x: 2*x # The derivative, thus gradient, of x^2 is 2x\n",
    "\n",
    "fig, (ax1, ax2) = plt.subplots(1, 2, sharey=True)\n",
    "\n",
    "ax1.plot(x, y)\n",
    "ax1.set_title(\"Initial Position\")\n",
    "ax1.plot(curr_x, curr_x**2, 'r+')\n",
    "\n",
    "curr_x -= grad(curr_x)\n",
    "ax2.plot(x, y)\n",
    "ax2.set_title(\"Updated Position\")\n",
    "ax2.plot(curr_x, curr_x**2, 'r+')\n",
    "\n",
    "plt.show()"
   ]
  },
  {
   "cell_type": "markdown",
   "metadata": {},
   "source": [
    "## In Class:\n",
    "What went wrong?"
   ]
  },
  {
   "cell_type": "markdown",
   "metadata": {},
   "source": [
    "---\n",
    "<details>\n",
    "<summary><b>Learning Rate:</b></summary>\n",
    "\n",
    "Clearly the above code ran into some complications. Due to the nature of our function $y = x^2$, our gradient will actually always just flip our position along the horizontal axis.\n",
    "\n",
    "To account for this overshooting, we need to apply a **Learning Rate**, or effectively a slowdown, on the speed in which we follow the gradient.\n",
    "\n",
    "By updating based on $new_x = curr_x - (lr * grad(curr_x))$, we can slowly follow the curve to an optimal position.\n",
    "\n",
    "</details>"
   ]
  },
  {
   "cell_type": "code",
   "execution_count": null,
   "metadata": {
    "tags": []
   },
   "outputs": [],
   "source": [
    "import time\n",
    "\n",
    "curr_x = -50\n",
    "grad = lambda x: 2*x # The derivative, thus gradient, of x^2 is 2x\n",
    "\n",
    "curr_x -= grad(curr_x)\n",
    "lr = .1\n",
    "\n",
    "fig, axes = plt.subplots(1, 1)\n",
    "\n",
    "for _ in range(30):\n",
    "    curr_x -= grad(curr_x) * lr\n",
    "    axes.plot(curr_x, curr_x**2, 'r+')  \n",
    "\n",
    "axes.plot(x, y)\n",
    "plt.show()"
   ]
  },
  {
   "cell_type": "markdown",
   "metadata": {},
   "source": [
    "### Applying Gradient Descent on Multi-Dimensional Functions\n",
    "Below is a visiualization showing that the concepts of gradient descent works with multivariate functions by taking the parital derivaties."
   ]
  },
  {
   "cell_type": "code",
   "execution_count": null,
   "metadata": {
    "tags": []
   },
   "outputs": [],
   "source": [
    "import matplotlib.pyplot as plt\n",
    "from mpl_toolkits.mplot3d import Axes3D\n",
    "\n",
    "x1 = []\n",
    "x2 = []\n",
    "y = []\n",
    "\n",
    "#y = x1**4 + 10*x2**2\n",
    "\n",
    "for ix1 in np.linspace(-5, 5, 50):\n",
    "    for ix2 in np.linspace(-10, 10, 50):\n",
    "        x1.append(ix1)\n",
    "        x2.append(ix2)\n",
    "        y.append(ix1**4 + 10*ix2**2)\n",
    "    \n",
    "fig= plt.figure()\n",
    "axes=fig.add_subplot(111, projection='3d')\n",
    "axes.plot_trisurf(x1, x2, y)\n",
    "plt.show()"
   ]
  },
  {
   "cell_type": "markdown",
   "metadata": {},
   "source": [
    "Given the following formula, what would our partial derivates be for x_1 and x_2?\n",
    "\n",
    "\\begin{align}\n",
    "\\begin{aligned}\n",
    "y &= x_1^4 + 10x_2^2 \\\\\n",
    "\\end{aligned}\n",
    "\\end{align}\n",
    "\n",
    "<details>\n",
    "<summary><b>Partial derivatives:</b></summary>\n",
    "\n",
    "\\begin{align}\n",
    "\\begin{aligned}\n",
    "\\frac{\\partial y}{\\partial x_1} &= 4x_1^3 \\\\\n",
    "\\frac{\\partial y}{\\partial x_2} &= 20x_2 \\\\\n",
    "\\end{aligned}\n",
    "\\end{align}\n",
    "\n",
    "</details>"
   ]
  },
  {
   "cell_type": "code",
   "execution_count": null,
   "metadata": {
    "tags": []
   },
   "outputs": [],
   "source": [
    "curr_x1 = -5\n",
    "curr_x2 = 5\n",
    "\n",
    "grad_x1 = lambda x1: 4*x1**3\n",
    "grad_x2 = lambda x2: 20*x2\n",
    "\n",
    "lr = .002\n",
    "\n",
    "fig= plt.figure()\n",
    "axes=fig.add_subplot(111, projection='3d')\n",
    "axes.plot_trisurf(x1, x2, y, alpha=.5)\n",
    "\n",
    "for _ in range(200):\n",
    "    curr_x1 -= grad_x1(curr_x1) * lr\n",
    "    curr_x2 -= grad_x2(curr_x2) * lr\n",
    "    #print(f'x1 - {curr_x1} and x2 - {curr_x2}')\n",
    "    curr_y = curr_x1**4 + 10*curr_x2**2\n",
    "    #print(curr_y)\n",
    "    axes.scatter([curr_x1], [curr_x2], [curr_y], 'r+', s=20)  \n",
    "\n",
    "plt.show()"
   ]
  },
  {
   "cell_type": "markdown",
   "metadata": {},
   "source": [
    "----\n",
    "## Loss Functions\n",
    "\n",
    "ML is all about approximating a function that represents our data, so how can we find the gradient of a function we don't know?\n",
    "\n",
    "In ML, while we are trying to appoximate a function that describes the underlying data, we actually train a model based on how accurately we are approximating that function (at least in most cases). What this means is that we actually define a **Loss function** which attempts to quantify how well our model is performing a given task. Since we know the formula for our **Loss function** we can use it to update our model to decrease our \"loss\" and therefore perform better.\n",
    "\n",
    "So:\n",
    " - $Model = f(x)$\n",
    " - $f(x) ≈ Problem$\n",
    " - $f(x) - Problem => Loss$\n",
    " - $\\Delta Loss => f'(x)$\n",
    "\n",
    "***NOTE: This is a very broad generalization***"
   ]
  },
  {
   "cell_type": "markdown",
   "metadata": {},
   "source": [
    "----\n",
    "\n",
    "### MSE\n",
    "While the term **Loss Function** may be new to some of you, I'm sure you've all worked with metrics/measures that are frequently used as **Loss Function**\n",
    "\n",
    "For example:\\\n",
    "A very common loss function is **Mean Squared Error** (MSE). MSE is a loss function typically used for regression problems, as it measures the residuals of our model.\n",
    "\n",
    "$$MSE = \\frac{1}{N}\\sum{(Y_i - \\hat{Y_i})^2}$$\n",
    "\n",
    "\n"
   ]
  }
 ],
 "metadata": {
  "kernelspec": {
   "display_name": "Python 3 (ipykernel)",
   "language": "python",
   "name": "python3"
  },
  "language_info": {
   "codemirror_mode": {
    "name": "ipython",
    "version": 3
   },
   "file_extension": ".py",
   "mimetype": "text/x-python",
   "name": "python",
   "nbconvert_exporter": "python",
   "pygments_lexer": "ipython3",
   "version": "3.9.18"
  }
 },
 "nbformat": 4,
 "nbformat_minor": 4
}
